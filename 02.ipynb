{
 "cells": [
  {
   "cell_type": "markdown",
   "metadata": {},
   "source": [
    "# Übung 2\n",
    "## Aufgabe 1: Canny\n",
    "Implementiere den Canny-Edge-Detector, wie in der Vorlesung beschrieben. Grober Plan:\n",
    "\n",
    "1. Bild weichzeichnen\n",
    "2. Sobel-Operator anwenden\n",
    "3. Non-Maximum-Suppression\n",
    "4. Hysterese\n",
    "\n",
    "### Vorvorarbeitung\n",
    "Glätte das Bild mit einem Gaussian (beachte: wir werden später an den Parametern drehen). Dann erzeuge mittels Sobel-Operator die Matrizen für Gradientenmagnitude und Gradientenrichtung. Die Einträge der letzteren Matrix kannst Du hier gleich auf die 4 Richtungen (für die 8 Nachbarn) setzen. Plotte beide Zwischenergebnisse!"
   ]
  },
  {
   "cell_type": "code",
   "execution_count": 1,
   "metadata": {
    "collapsed": true
   },
   "outputs": [],
   "source": [
    "#%matplotlib inline \n",
    "from skimage import io\n",
    "\n",
    "image = io.imread('../images/lena.png')\n"
   ]
  },
  {
   "cell_type": "markdown",
   "metadata": {},
   "source": [
    "### Non-Maximum Suppression\n",
    "Implementiere die Non-Maximum-Suppression, wie in der Vorlesung beschrieben. Ziehe das Ergebnis vom Gradientenmagnitudenbild ab und zeige das Ergebnis!"
   ]
  },
  {
   "cell_type": "code",
   "execution_count": null,
   "metadata": {
    "collapsed": true
   },
   "outputs": [],
   "source": []
  },
  {
   "cell_type": "markdown",
   "metadata": {},
   "source": [
    "### Hysterese\n",
    "Implementiere das Kantentracing, wie in der Vorlesung beschrieben und zeige das Endergebnis für drei verschiedene Schwellwertpaare: zwei niedrige Schwellwerte (z.B. 20 und 50), hohe Schwellwerte (z.B. 80 und 120) und Schwellwerte mit großem Abstand (z.B. 40 und 140).  "
   ]
  },
  {
   "cell_type": "code",
   "execution_count": null,
   "metadata": {
    "collapsed": true
   },
   "outputs": [],
   "source": []
  }
 ],
 "metadata": {
  "kernelspec": {
   "display_name": "Python 3",
   "language": "python",
   "name": "python3"
  },
  "language_info": {
   "codemirror_mode": {
    "name": "ipython",
    "version": 3
   },
   "file_extension": ".py",
   "mimetype": "text/x-python",
   "name": "python",
   "nbconvert_exporter": "python",
   "pygments_lexer": "ipython3",
   "version": "3.5.1"
  }
 },
 "nbformat": 4,
 "nbformat_minor": 0
}
